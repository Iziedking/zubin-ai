{
 "cells": [
  {
   "cell_type": "code",
   "execution_count": null,
   "id": "75427881",
   "metadata": {},
   "outputs": [],
   "source": "import asyncio\nimport os\nfrom pathlib import Path\nimport tempfile\nimport dspy\nfrom roma_dspy.config import ConfigManager\nfrom roma_dspy.core.engine.solve import RecursiveSolver\nfrom roma_dspy.core.modules.recursive_solver import RecursiveSolverModule\n\n# Get the absolute path to the project root\n# Use the roma_dspy package location to find the project root\nimport roma_dspy\npackage_path = Path(roma_dspy.__file__).parent.parent.parent\nproject_root = package_path\n\nprint(f\"Project root: {project_root}\")\n\n# Create config manager with absolute path to config directory\nconfig_manager = ConfigManager(config_dir=project_root / \"config\")\nconfig = config_manager.load_config(profile=\"general\")\n\n# Optional: Customize configuration programmatically\nconfig.runtime.max_depth = 2\nconfig.runtime.verbose = True\nconfig.runtime.enable_logging = True\n\n# Use temp directory for cache in notebooks to avoid permission issues\nconfig.runtime.cache.disk_cache_dir = str(Path(tempfile.gettempdir()) / \"roma_dspy_cache\")\n\n# Create solver from config (disable checkpoints for notebook usage)\nsolver = RecursiveSolver(config=config, enable_checkpoints=False)\n\n# Wrap in DSPy module for .forward() interface\ndspy_module = RecursiveSolverModule(solver=solver)"
  },
  {
   "cell_type": "code",
   "execution_count": null,
   "id": "3b9a8e0e",
   "metadata": {},
   "outputs": [],
   "source": "task_goal = \"Write me a blog post about the benefits of using DSPy.\"\n\n# Use async_event_solve in Jupyter notebooks (which run in an event loop)\ncompleted_task = await solver.async_event_solve(task=task_goal)\n\n# Display result\nprint(f\"Status: {completed_task.status}\")\nprint(f\"\\nResult:\\n{completed_task.result}\")"
  },
  {
   "cell_type": "code",
   "execution_count": null,
   "id": "bb15237f",
   "metadata": {},
   "outputs": [],
   "source": "# Display the execution trace (text format)\nfrom roma_dspy.core.utils.trace_formatter import format_solver_trace\n\ntrace = format_solver_trace(solver)\nprint(trace)"
  },
  {
   "cell_type": "code",
   "execution_count": null,
   "id": "4575fcce",
   "metadata": {},
   "outputs": [],
   "source": "# Access the DAG for detailed inspection\nfrom roma_dspy.core.utils.trace_formatter import format_dag_summary\n\ndag = solver.last_dag\nprint(format_dag_summary(dag))\n\n# Get execution ID for use with TUI/API\nexecution_id = dag.get_execution_id()\nprint(f\"\\nExecution ID: {execution_id}\")"
  },
  {
   "cell_type": "code",
   "execution_count": null,
   "id": "a62f5f8a",
   "metadata": {},
   "outputs": [],
   "source": "# Inspect individual tasks\nprint(f\"Root Task ID: {completed_task.task_id}\")\nprint(f\"Status: {completed_task.status}\")\nprint(f\"Subtasks: {len(completed_task.children)}\")\n\n# Iterate through children\nfor child_id in completed_task.children:\n    child = dag.get_node(child_id)\n    if child:\n        print(f\"\\n  Child: {child.goal[:60]}...\")\n        print(f\"  Status: {child.status}\")"
  }
 ],
 "metadata": {
  "kernelspec": {
   "display_name": ".venv",
   "language": "python",
   "name": "python3"
  },
  "language_info": {
   "codemirror_mode": {
    "name": "ipython",
    "version": 3
   },
   "file_extension": ".py",
   "mimetype": "text/x-python",
   "name": "python",
   "nbconvert_exporter": "python",
   "pygments_lexer": "ipython3",
   "version": "3.12.9"
  }
 },
 "nbformat": 4,
 "nbformat_minor": 5
}